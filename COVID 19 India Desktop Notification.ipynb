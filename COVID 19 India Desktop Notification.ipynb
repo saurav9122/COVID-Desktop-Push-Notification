{
 "cells": [
  {
   "cell_type": "code",
   "execution_count": 4,
   "metadata": {},
   "outputs": [
    {
     "data": {
      "text/plain": [
       "True"
      ]
     },
     "execution_count": 4,
     "metadata": {},
     "output_type": "execute_result"
    }
   ],
   "source": [
    "from bs4 import BeautifulSoup\n",
    "import requests\n",
    "\n",
    "#Worldometer website reference\n",
    "url='https://www.worldometers.info/coronavirus/country/india/'\n",
    "\n",
    "#Header can be used in case of any error\n",
    "#header={'User-Agent':\"Mozilla/5.0 (Windows NT 10.0; Win64; x64) AppleWebKit/537.36 (KHTML, like Gecko) Chrome/84.0.4147.125 Safari/537.36\"}\n",
    "\n",
    "r=requests.get(url)#,headers=header)\n",
    "\n",
    "#Parser used is lxml. Html5lib can also be used. html5lib is a pure python library\n",
    "soup=BeautifulSoup(r.content,'lxml')\n",
    "\n",
    "#Inspect the website for number of cases and enter in the soup object accordingly\n",
    "Newcase=soup.find('li',{'class':'news_li'})\n",
    "\n",
    "#Get the text part from the element\n",
    "Newcase=Newcase.strong.get_text()\n",
    "\n",
    "#Use the next sibling to find the subsequent numbers\n",
    "Newdeaths=soup.find('li',{'class':'news_li'}).strong.next_sibling.next_sibling.get_text()\n",
    "\n",
    "#Keep the predefined message ready\n",
    "message=\"New Cases \"+Newcase+\"\\nDeath \"+Newdeaths\n",
    "\n",
    "#win10toast is python module for dekstop push notification\n",
    "from win10toast import ToastNotifier\n",
    "\n",
    "#Create an Object \n",
    "Notifier=ToastNotifier()\n",
    "\n",
    "#enter the message in the msg and duration tells the number of seconds the message will be displayed\n",
    "Notifier.show_toast(title='India COVID-19 Status',msg=message,duration=10)"
   ]
  },
  {
   "cell_type": "code",
   "execution_count": null,
   "metadata": {},
   "outputs": [],
   "source": []
  }
 ],
 "metadata": {
  "kernelspec": {
   "display_name": "Python 3",
   "language": "python",
   "name": "python3"
  },
  "language_info": {
   "codemirror_mode": {
    "name": "ipython",
    "version": 3
   },
   "file_extension": ".py",
   "mimetype": "text/x-python",
   "name": "python",
   "nbconvert_exporter": "python",
   "pygments_lexer": "ipython3",
   "version": "3.7.3"
  }
 },
 "nbformat": 4,
 "nbformat_minor": 2
}
